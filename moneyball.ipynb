{
 "cells": [
  {
   "cell_type": "code",
   "execution_count": 1,
   "metadata": {
    "collapsed": true
   },
   "outputs": [],
   "source": [
    "import pandas as pd\n",
    "import numpy as np\n",
    "import matplotlib.pyplot as plt\n",
    "import re\n",
    "import seaborn\n",
    "\n",
    "%matplotlib inline"
   ]
  },
  {
   "cell_type": "markdown",
   "metadata": {},
   "source": [
    "On-Base Percentage (OBP) = Hits + Walks(BB) + Hit By Pitch(HBP) / At Bats(AB) + Walks + HBP + Sacrifice Flies"
   ]
  },
  {
   "cell_type": "markdown",
   "metadata": {},
   "source": [
    "Note = Sacrifice Flies stats don't start until 1954.\n",
    "\n",
    "Before that, SH = SF + Bunts"
   ]
  },
  {
   "cell_type": "code",
   "execution_count": null,
   "metadata": {
    "collapsed": true
   },
   "outputs": [],
   "source": []
  },
  {
   "cell_type": "code",
   "execution_count": null,
   "metadata": {
    "collapsed": true
   },
   "outputs": [],
   "source": []
  },
  {
   "cell_type": "code",
   "execution_count": null,
   "metadata": {
    "collapsed": true
   },
   "outputs": [],
   "source": []
  },
  {
   "cell_type": "code",
   "execution_count": 39,
   "metadata": {
    "collapsed": false
   },
   "outputs": [
    {
     "data": {
      "text/plain": [
       "18846"
      ]
     },
     "execution_count": 39,
     "metadata": {},
     "output_type": "execute_result"
    }
   ],
   "source": [
    "column_id = [0, 13, 14]\n",
    "bio = pd.read_csv('data/Master.csv', usecols=column_id)\n",
    "len(bio)"
   ]
  },
  {
   "cell_type": "code",
   "execution_count": 14,
   "metadata": {
    "collapsed": false
   },
   "outputs": [],
   "source": [
    "bio = bio.rename(columns={'nameFirst': 'FirstName', 'nameLast': 'LastName'})"
   ]
  },
  {
   "cell_type": "code",
   "execution_count": 15,
   "metadata": {
    "collapsed": false
   },
   "outputs": [
    {
     "data": {
      "text/html": [
       "<div>\n",
       "<table border=\"1\" class=\"dataframe\">\n",
       "  <thead>\n",
       "    <tr style=\"text-align: right;\">\n",
       "      <th></th>\n",
       "      <th>playerID</th>\n",
       "      <th>FirstName</th>\n",
       "      <th>LastName</th>\n",
       "    </tr>\n",
       "  </thead>\n",
       "  <tbody>\n",
       "    <tr>\n",
       "      <th>0</th>\n",
       "      <td>aardsda01</td>\n",
       "      <td>David</td>\n",
       "      <td>Aardsma</td>\n",
       "    </tr>\n",
       "    <tr>\n",
       "      <th>1</th>\n",
       "      <td>aaronha01</td>\n",
       "      <td>Hank</td>\n",
       "      <td>Aaron</td>\n",
       "    </tr>\n",
       "    <tr>\n",
       "      <th>2</th>\n",
       "      <td>aaronto01</td>\n",
       "      <td>Tommie</td>\n",
       "      <td>Aaron</td>\n",
       "    </tr>\n",
       "    <tr>\n",
       "      <th>3</th>\n",
       "      <td>aasedo01</td>\n",
       "      <td>Don</td>\n",
       "      <td>Aase</td>\n",
       "    </tr>\n",
       "    <tr>\n",
       "      <th>4</th>\n",
       "      <td>abadan01</td>\n",
       "      <td>Andy</td>\n",
       "      <td>Abad</td>\n",
       "    </tr>\n",
       "  </tbody>\n",
       "</table>\n",
       "</div>"
      ],
      "text/plain": [
       "    playerID FirstName LastName\n",
       "0  aardsda01     David  Aardsma\n",
       "1  aaronha01      Hank    Aaron\n",
       "2  aaronto01    Tommie    Aaron\n",
       "3   aasedo01       Don     Aase\n",
       "4   abadan01      Andy     Abad"
      ]
     },
     "execution_count": 15,
     "metadata": {},
     "output_type": "execute_result"
    }
   ],
   "source": [
    "bio.head()"
   ]
  },
  {
   "cell_type": "code",
   "execution_count": 41,
   "metadata": {
    "collapsed": false
   },
   "outputs": [
    {
     "data": {
      "text/plain": [
       "25575"
      ]
     },
     "execution_count": 41,
     "metadata": {},
     "output_type": "execute_result"
    }
   ],
   "source": [
    "column_id = [0, 3, 4]\n",
    "salary = pd.read_csv('data/Salaries.csv', usecols=column_id)\n",
    "len(salary)"
   ]
  },
  {
   "cell_type": "code",
   "execution_count": 43,
   "metadata": {
    "collapsed": false
   },
   "outputs": [
    {
     "data": {
      "text/plain": [
       "170526"
      ]
     },
     "execution_count": 43,
     "metadata": {},
     "output_type": "execute_result"
    }
   ],
   "source": [
    "column_id = [0, 1, 5, 6]\n",
    "fielding = pd.read_csv('data/Fielding.csv', usecols=column_id)\n",
    "len(fielding)"
   ]
  },
  {
   "cell_type": "code",
   "execution_count": 44,
   "metadata": {
    "collapsed": false
   },
   "outputs": [
    {
     "data": {
      "text/plain": [
       "101332"
      ]
     },
     "execution_count": 44,
     "metadata": {},
     "output_type": "execute_result"
    }
   ],
   "source": [
    "column_id = [0, 1, 5, 6, 8, 15, 18, 20]\n",
    "batting = pd.read_csv('data/Batting.csv', usecols=column_id)\n",
    "len(batting)"
   ]
  },
  {
   "cell_type": "code",
   "execution_count": 45,
   "metadata": {
    "collapsed": false
   },
   "outputs": [],
   "source": [
    "data = pd.merge(batting, bio)\n",
    "data = pd.merge(data, fielding)\n",
    "data = pd.merge(data, salary)"
   ]
  },
  {
   "cell_type": "code",
   "execution_count": 46,
   "metadata": {
    "collapsed": false
   },
   "outputs": [
    {
     "data": {
      "text/plain": [
       "13709"
      ]
     },
     "execution_count": 46,
     "metadata": {},
     "output_type": "execute_result"
    }
   ],
   "source": [
    "len(data)"
   ]
  },
  {
   "cell_type": "code",
   "execution_count": 65,
   "metadata": {
    "collapsed": false
   },
   "outputs": [
    {
     "data": {
      "text/html": [
       "<div>\n",
       "<table border=\"1\" class=\"dataframe\">\n",
       "  <thead>\n",
       "    <tr style=\"text-align: right;\">\n",
       "      <th></th>\n",
       "      <th>playerID</th>\n",
       "      <th>yearID</th>\n",
       "      <th>G</th>\n",
       "      <th>AB</th>\n",
       "      <th>H</th>\n",
       "      <th>BB</th>\n",
       "      <th>HBP</th>\n",
       "      <th>SF</th>\n",
       "      <th>nameFirst</th>\n",
       "      <th>nameLast</th>\n",
       "      <th>POS</th>\n",
       "      <th>salary</th>\n",
       "    </tr>\n",
       "  </thead>\n",
       "  <tbody>\n",
       "    <tr>\n",
       "      <th>0</th>\n",
       "      <td>johnto01</td>\n",
       "      <td>1985</td>\n",
       "      <td>12</td>\n",
       "      <td>NaN</td>\n",
       "      <td>NaN</td>\n",
       "      <td>NaN</td>\n",
       "      <td>NaN</td>\n",
       "      <td>NaN</td>\n",
       "      <td>Tommy</td>\n",
       "      <td>John</td>\n",
       "      <td>P</td>\n",
       "      <td>600000</td>\n",
       "    </tr>\n",
       "    <tr>\n",
       "      <th>1</th>\n",
       "      <td>johnto01</td>\n",
       "      <td>1985</td>\n",
       "      <td>11</td>\n",
       "      <td>NaN</td>\n",
       "      <td>NaN</td>\n",
       "      <td>NaN</td>\n",
       "      <td>NaN</td>\n",
       "      <td>NaN</td>\n",
       "      <td>Tommy</td>\n",
       "      <td>John</td>\n",
       "      <td>P</td>\n",
       "      <td>600000</td>\n",
       "    </tr>\n",
       "    <tr>\n",
       "      <th>2</th>\n",
       "      <td>johnto01</td>\n",
       "      <td>1986</td>\n",
       "      <td>13</td>\n",
       "      <td>NaN</td>\n",
       "      <td>NaN</td>\n",
       "      <td>NaN</td>\n",
       "      <td>NaN</td>\n",
       "      <td>NaN</td>\n",
       "      <td>Tommy</td>\n",
       "      <td>John</td>\n",
       "      <td>P</td>\n",
       "      <td>440000</td>\n",
       "    </tr>\n",
       "    <tr>\n",
       "      <th>3</th>\n",
       "      <td>johnto01</td>\n",
       "      <td>1986</td>\n",
       "      <td>13</td>\n",
       "      <td>NaN</td>\n",
       "      <td>NaN</td>\n",
       "      <td>NaN</td>\n",
       "      <td>NaN</td>\n",
       "      <td>NaN</td>\n",
       "      <td>Tommy</td>\n",
       "      <td>John</td>\n",
       "      <td>P</td>\n",
       "      <td>60000</td>\n",
       "    </tr>\n",
       "    <tr>\n",
       "      <th>4</th>\n",
       "      <td>johnto01</td>\n",
       "      <td>1987</td>\n",
       "      <td>33</td>\n",
       "      <td>NaN</td>\n",
       "      <td>NaN</td>\n",
       "      <td>NaN</td>\n",
       "      <td>NaN</td>\n",
       "      <td>NaN</td>\n",
       "      <td>Tommy</td>\n",
       "      <td>John</td>\n",
       "      <td>P</td>\n",
       "      <td>350000</td>\n",
       "    </tr>\n",
       "  </tbody>\n",
       "</table>\n",
       "</div>"
      ],
      "text/plain": [
       "   playerID  yearID   G  AB   H  BB  HBP  SF nameFirst nameLast POS  salary\n",
       "0  johnto01    1985  12 NaN NaN NaN  NaN NaN     Tommy     John   P  600000\n",
       "1  johnto01    1985  11 NaN NaN NaN  NaN NaN     Tommy     John   P  600000\n",
       "2  johnto01    1986  13 NaN NaN NaN  NaN NaN     Tommy     John   P  440000\n",
       "3  johnto01    1986  13 NaN NaN NaN  NaN NaN     Tommy     John   P   60000\n",
       "4  johnto01    1987  33 NaN NaN NaN  NaN NaN     Tommy     John   P  350000"
      ]
     },
     "execution_count": 65,
     "metadata": {},
     "output_type": "execute_result"
    }
   ],
   "source": [
    "data.head()"
   ]
  },
  {
   "cell_type": "code",
   "execution_count": 47,
   "metadata": {
    "collapsed": false
   },
   "outputs": [],
   "source": [
    "data_dropna = data.copy()"
   ]
  },
  {
   "cell_type": "code",
   "execution_count": 56,
   "metadata": {
    "collapsed": false
   },
   "outputs": [],
   "source": [
    "data_dropna = data_dropna.dropna()"
   ]
  },
  {
   "cell_type": "code",
   "execution_count": 57,
   "metadata": {
    "collapsed": false
   },
   "outputs": [
    {
     "data": {
      "text/plain": [
       "11562"
      ]
     },
     "execution_count": 57,
     "metadata": {},
     "output_type": "execute_result"
    }
   ],
   "source": [
    "len(data_dropna)"
   ]
  },
  {
   "cell_type": "code",
   "execution_count": 60,
   "metadata": {
    "collapsed": false
   },
   "outputs": [],
   "source": [
    "data_dropna = data_dropna.drop_duplicates()"
   ]
  },
  {
   "cell_type": "code",
   "execution_count": 61,
   "metadata": {
    "collapsed": false
   },
   "outputs": [
    {
     "data": {
      "text/plain": [
       "11492"
      ]
     },
     "execution_count": 61,
     "metadata": {},
     "output_type": "execute_result"
    }
   ],
   "source": [
    "len(data_dropna)"
   ]
  },
  {
   "cell_type": "code",
   "execution_count": 76,
   "metadata": {
    "collapsed": true
   },
   "outputs": [],
   "source": [
    "data_dropna['OBP'] = (data_dropna['H']+data_dropna['BB']+data_dropna['HBP'])/(data_dropna['AB']+data_dropna['BB']+data_dropna['HBP']+data_dropna['SF'])"
   ]
  },
  {
   "cell_type": "code",
   "execution_count": 77,
   "metadata": {
    "collapsed": false
   },
   "outputs": [
    {
     "data": {
      "text/html": [
       "<div>\n",
       "<table border=\"1\" class=\"dataframe\">\n",
       "  <thead>\n",
       "    <tr style=\"text-align: right;\">\n",
       "      <th></th>\n",
       "      <th>playerID</th>\n",
       "      <th>yearID</th>\n",
       "      <th>G</th>\n",
       "      <th>AB</th>\n",
       "      <th>H</th>\n",
       "      <th>BB</th>\n",
       "      <th>HBP</th>\n",
       "      <th>SF</th>\n",
       "      <th>nameFirst</th>\n",
       "      <th>nameLast</th>\n",
       "      <th>POS</th>\n",
       "      <th>salary</th>\n",
       "      <th>OBP</th>\n",
       "      <th>OBP/Sal_Ratio</th>\n",
       "      <th>Ratio</th>\n",
       "    </tr>\n",
       "  </thead>\n",
       "  <tbody>\n",
       "    <tr>\n",
       "      <th>8</th>\n",
       "      <td>carltst01</td>\n",
       "      <td>1985</td>\n",
       "      <td>16</td>\n",
       "      <td>28.0</td>\n",
       "      <td>5.0</td>\n",
       "      <td>1.0</td>\n",
       "      <td>0.0</td>\n",
       "      <td>1.0</td>\n",
       "      <td>Steve</td>\n",
       "      <td>Carlton</td>\n",
       "      <td>P</td>\n",
       "      <td>1075000</td>\n",
       "      <td>0.200000</td>\n",
       "      <td>1.860465e-07</td>\n",
       "      <td>1.860465e-07</td>\n",
       "    </tr>\n",
       "    <tr>\n",
       "      <th>9</th>\n",
       "      <td>carltst01</td>\n",
       "      <td>1986</td>\n",
       "      <td>16</td>\n",
       "      <td>34.0</td>\n",
       "      <td>7.0</td>\n",
       "      <td>1.0</td>\n",
       "      <td>0.0</td>\n",
       "      <td>0.0</td>\n",
       "      <td>Steve</td>\n",
       "      <td>Carlton</td>\n",
       "      <td>P</td>\n",
       "      <td>60000</td>\n",
       "      <td>0.228571</td>\n",
       "      <td>3.809524e-06</td>\n",
       "      <td>3.809524e-06</td>\n",
       "    </tr>\n",
       "    <tr>\n",
       "      <th>10</th>\n",
       "      <td>carltst01</td>\n",
       "      <td>1986</td>\n",
       "      <td>16</td>\n",
       "      <td>34.0</td>\n",
       "      <td>7.0</td>\n",
       "      <td>1.0</td>\n",
       "      <td>0.0</td>\n",
       "      <td>0.0</td>\n",
       "      <td>Steve</td>\n",
       "      <td>Carlton</td>\n",
       "      <td>P</td>\n",
       "      <td>1000000</td>\n",
       "      <td>0.228571</td>\n",
       "      <td>2.285714e-07</td>\n",
       "      <td>2.285714e-07</td>\n",
       "    </tr>\n",
       "    <tr>\n",
       "      <th>11</th>\n",
       "      <td>carltst01</td>\n",
       "      <td>1986</td>\n",
       "      <td>6</td>\n",
       "      <td>11.0</td>\n",
       "      <td>2.0</td>\n",
       "      <td>0.0</td>\n",
       "      <td>0.0</td>\n",
       "      <td>0.0</td>\n",
       "      <td>Steve</td>\n",
       "      <td>Carlton</td>\n",
       "      <td>P</td>\n",
       "      <td>60000</td>\n",
       "      <td>0.181818</td>\n",
       "      <td>3.030303e-06</td>\n",
       "      <td>3.030303e-06</td>\n",
       "    </tr>\n",
       "    <tr>\n",
       "      <th>12</th>\n",
       "      <td>carltst01</td>\n",
       "      <td>1986</td>\n",
       "      <td>6</td>\n",
       "      <td>11.0</td>\n",
       "      <td>2.0</td>\n",
       "      <td>0.0</td>\n",
       "      <td>0.0</td>\n",
       "      <td>0.0</td>\n",
       "      <td>Steve</td>\n",
       "      <td>Carlton</td>\n",
       "      <td>P</td>\n",
       "      <td>1000000</td>\n",
       "      <td>0.181818</td>\n",
       "      <td>1.818182e-07</td>\n",
       "      <td>1.818182e-07</td>\n",
       "    </tr>\n",
       "  </tbody>\n",
       "</table>\n",
       "</div>"
      ],
      "text/plain": [
       "     playerID  yearID   G    AB    H   BB  HBP   SF nameFirst nameLast POS  \\\n",
       "8   carltst01    1985  16  28.0  5.0  1.0  0.0  1.0     Steve  Carlton   P   \n",
       "9   carltst01    1986  16  34.0  7.0  1.0  0.0  0.0     Steve  Carlton   P   \n",
       "10  carltst01    1986  16  34.0  7.0  1.0  0.0  0.0     Steve  Carlton   P   \n",
       "11  carltst01    1986   6  11.0  2.0  0.0  0.0  0.0     Steve  Carlton   P   \n",
       "12  carltst01    1986   6  11.0  2.0  0.0  0.0  0.0     Steve  Carlton   P   \n",
       "\n",
       "     salary       OBP  OBP/Sal_Ratio         Ratio  \n",
       "8   1075000  0.200000   1.860465e-07  1.860465e-07  \n",
       "9     60000  0.228571   3.809524e-06  3.809524e-06  \n",
       "10  1000000  0.228571   2.285714e-07  2.285714e-07  \n",
       "11    60000  0.181818   3.030303e-06  3.030303e-06  \n",
       "12  1000000  0.181818   1.818182e-07  1.818182e-07  "
      ]
     },
     "execution_count": 77,
     "metadata": {},
     "output_type": "execute_result"
    }
   ],
   "source": [
    "data_dropna.head()"
   ]
  },
  {
   "cell_type": "code",
   "execution_count": 78,
   "metadata": {
    "collapsed": true
   },
   "outputs": [],
   "source": [
    "data_dropna['Ratio'] = data_dropna['OBP']/data_dropna['salary']"
   ]
  },
  {
   "cell_type": "code",
   "execution_count": 79,
   "metadata": {
    "collapsed": false
   },
   "outputs": [],
   "source": [
    "moneyball = data_dropna[data_dropna['AB'] > 15]"
   ]
  },
  {
   "cell_type": "code",
   "execution_count": 81,
   "metadata": {
    "collapsed": false
   },
   "outputs": [
    {
     "data": {
      "text/html": [
       "<div>\n",
       "<table border=\"1\" class=\"dataframe\">\n",
       "  <thead>\n",
       "    <tr style=\"text-align: right;\">\n",
       "      <th></th>\n",
       "      <th>playerID</th>\n",
       "      <th>yearID</th>\n",
       "      <th>G</th>\n",
       "      <th>AB</th>\n",
       "      <th>H</th>\n",
       "      <th>BB</th>\n",
       "      <th>HBP</th>\n",
       "      <th>SF</th>\n",
       "      <th>nameFirst</th>\n",
       "      <th>nameLast</th>\n",
       "      <th>POS</th>\n",
       "      <th>salary</th>\n",
       "      <th>OBP</th>\n",
       "      <th>OBP/Sal_Ratio</th>\n",
       "      <th>Ratio</th>\n",
       "    </tr>\n",
       "  </thead>\n",
       "  <tbody>\n",
       "    <tr>\n",
       "      <th>1664</th>\n",
       "      <td>gibbojo02</td>\n",
       "      <td>1986</td>\n",
       "      <td>8</td>\n",
       "      <td>19.0</td>\n",
       "      <td>9.0</td>\n",
       "      <td>3.0</td>\n",
       "      <td>0.0</td>\n",
       "      <td>0.0</td>\n",
       "      <td>John</td>\n",
       "      <td>Gibbons</td>\n",
       "      <td>C</td>\n",
       "      <td>65000</td>\n",
       "      <td>0.545455</td>\n",
       "      <td>0.000008</td>\n",
       "      <td>0.000008</td>\n",
       "    </tr>\n",
       "    <tr>\n",
       "      <th>1455</th>\n",
       "      <td>lakest01</td>\n",
       "      <td>1986</td>\n",
       "      <td>10</td>\n",
       "      <td>19.0</td>\n",
       "      <td>8.0</td>\n",
       "      <td>1.0</td>\n",
       "      <td>0.0</td>\n",
       "      <td>0.0</td>\n",
       "      <td>Steve</td>\n",
       "      <td>Lake</td>\n",
       "      <td>C</td>\n",
       "      <td>60000</td>\n",
       "      <td>0.450000</td>\n",
       "      <td>0.000008</td>\n",
       "      <td>0.000008</td>\n",
       "    </tr>\n",
       "    <tr>\n",
       "      <th>3335</th>\n",
       "      <td>jonesro02</td>\n",
       "      <td>1989</td>\n",
       "      <td>12</td>\n",
       "      <td>31.0</td>\n",
       "      <td>9.0</td>\n",
       "      <td>9.0</td>\n",
       "      <td>0.0</td>\n",
       "      <td>0.0</td>\n",
       "      <td>Ron</td>\n",
       "      <td>Jones</td>\n",
       "      <td>OF</td>\n",
       "      <td>74000</td>\n",
       "      <td>0.450000</td>\n",
       "      <td>0.000006</td>\n",
       "      <td>0.000006</td>\n",
       "    </tr>\n",
       "    <tr>\n",
       "      <th>3001</th>\n",
       "      <td>ripkebi01</td>\n",
       "      <td>1987</td>\n",
       "      <td>58</td>\n",
       "      <td>234.0</td>\n",
       "      <td>72.0</td>\n",
       "      <td>21.0</td>\n",
       "      <td>0.0</td>\n",
       "      <td>1.0</td>\n",
       "      <td>Billy</td>\n",
       "      <td>Ripken</td>\n",
       "      <td>2B</td>\n",
       "      <td>62500</td>\n",
       "      <td>0.363281</td>\n",
       "      <td>0.000006</td>\n",
       "      <td>0.000006</td>\n",
       "    </tr>\n",
       "    <tr>\n",
       "      <th>3021</th>\n",
       "      <td>thurmga01</td>\n",
       "      <td>1987</td>\n",
       "      <td>27</td>\n",
       "      <td>81.0</td>\n",
       "      <td>24.0</td>\n",
       "      <td>8.0</td>\n",
       "      <td>0.0</td>\n",
       "      <td>0.0</td>\n",
       "      <td>Gary</td>\n",
       "      <td>Thurman</td>\n",
       "      <td>OF</td>\n",
       "      <td>62500</td>\n",
       "      <td>0.359551</td>\n",
       "      <td>0.000006</td>\n",
       "      <td>0.000006</td>\n",
       "    </tr>\n",
       "  </tbody>\n",
       "</table>\n",
       "</div>"
      ],
      "text/plain": [
       "       playerID  yearID   G     AB     H    BB  HBP   SF nameFirst nameLast  \\\n",
       "1664  gibbojo02    1986   8   19.0   9.0   3.0  0.0  0.0      John  Gibbons   \n",
       "1455   lakest01    1986  10   19.0   8.0   1.0  0.0  0.0     Steve     Lake   \n",
       "3335  jonesro02    1989  12   31.0   9.0   9.0  0.0  0.0       Ron    Jones   \n",
       "3001  ripkebi01    1987  58  234.0  72.0  21.0  0.0  1.0     Billy   Ripken   \n",
       "3021  thurmga01    1987  27   81.0  24.0   8.0  0.0  0.0      Gary  Thurman   \n",
       "\n",
       "     POS  salary       OBP  OBP/Sal_Ratio     Ratio  \n",
       "1664   C   65000  0.545455       0.000008  0.000008  \n",
       "1455   C   60000  0.450000       0.000008  0.000008  \n",
       "3335  OF   74000  0.450000       0.000006  0.000006  \n",
       "3001  2B   62500  0.363281       0.000006  0.000006  \n",
       "3021  OF   62500  0.359551       0.000006  0.000006  "
      ]
     },
     "execution_count": 81,
     "metadata": {},
     "output_type": "execute_result"
    }
   ],
   "source": [
    "moneyball.sort_values('Ratio', ascending=False).head()"
   ]
  },
  {
   "cell_type": "code",
   "execution_count": 82,
   "metadata": {
    "collapsed": true
   },
   "outputs": [],
   "source": [
    "del moneyball['OBP/Sal_Ratio']"
   ]
  },
  {
   "cell_type": "code",
   "execution_count": 83,
   "metadata": {
    "collapsed": false
   },
   "outputs": [
    {
     "data": {
      "text/html": [
       "<div>\n",
       "<table border=\"1\" class=\"dataframe\">\n",
       "  <thead>\n",
       "    <tr style=\"text-align: right;\">\n",
       "      <th></th>\n",
       "      <th>playerID</th>\n",
       "      <th>yearID</th>\n",
       "      <th>G</th>\n",
       "      <th>AB</th>\n",
       "      <th>H</th>\n",
       "      <th>BB</th>\n",
       "      <th>HBP</th>\n",
       "      <th>SF</th>\n",
       "      <th>nameFirst</th>\n",
       "      <th>nameLast</th>\n",
       "      <th>POS</th>\n",
       "      <th>salary</th>\n",
       "      <th>OBP</th>\n",
       "      <th>Ratio</th>\n",
       "    </tr>\n",
       "  </thead>\n",
       "  <tbody>\n",
       "    <tr>\n",
       "      <th>8</th>\n",
       "      <td>carltst01</td>\n",
       "      <td>1985</td>\n",
       "      <td>16</td>\n",
       "      <td>28.0</td>\n",
       "      <td>5.0</td>\n",
       "      <td>1.0</td>\n",
       "      <td>0.0</td>\n",
       "      <td>1.0</td>\n",
       "      <td>Steve</td>\n",
       "      <td>Carlton</td>\n",
       "      <td>P</td>\n",
       "      <td>1075000</td>\n",
       "      <td>0.200000</td>\n",
       "      <td>1.860465e-07</td>\n",
       "    </tr>\n",
       "    <tr>\n",
       "      <th>9</th>\n",
       "      <td>carltst01</td>\n",
       "      <td>1986</td>\n",
       "      <td>16</td>\n",
       "      <td>34.0</td>\n",
       "      <td>7.0</td>\n",
       "      <td>1.0</td>\n",
       "      <td>0.0</td>\n",
       "      <td>0.0</td>\n",
       "      <td>Steve</td>\n",
       "      <td>Carlton</td>\n",
       "      <td>P</td>\n",
       "      <td>60000</td>\n",
       "      <td>0.228571</td>\n",
       "      <td>3.809524e-06</td>\n",
       "    </tr>\n",
       "    <tr>\n",
       "      <th>10</th>\n",
       "      <td>carltst01</td>\n",
       "      <td>1986</td>\n",
       "      <td>16</td>\n",
       "      <td>34.0</td>\n",
       "      <td>7.0</td>\n",
       "      <td>1.0</td>\n",
       "      <td>0.0</td>\n",
       "      <td>0.0</td>\n",
       "      <td>Steve</td>\n",
       "      <td>Carlton</td>\n",
       "      <td>P</td>\n",
       "      <td>1000000</td>\n",
       "      <td>0.228571</td>\n",
       "      <td>2.285714e-07</td>\n",
       "    </tr>\n",
       "    <tr>\n",
       "      <th>16</th>\n",
       "      <td>ryanno01</td>\n",
       "      <td>1985</td>\n",
       "      <td>35</td>\n",
       "      <td>63.0</td>\n",
       "      <td>7.0</td>\n",
       "      <td>4.0</td>\n",
       "      <td>0.0</td>\n",
       "      <td>1.0</td>\n",
       "      <td>Nolan</td>\n",
       "      <td>Ryan</td>\n",
       "      <td>P</td>\n",
       "      <td>1350000</td>\n",
       "      <td>0.161765</td>\n",
       "      <td>1.198257e-07</td>\n",
       "    </tr>\n",
       "    <tr>\n",
       "      <th>17</th>\n",
       "      <td>ryanno01</td>\n",
       "      <td>1986</td>\n",
       "      <td>30</td>\n",
       "      <td>59.0</td>\n",
       "      <td>6.0</td>\n",
       "      <td>1.0</td>\n",
       "      <td>0.0</td>\n",
       "      <td>0.0</td>\n",
       "      <td>Nolan</td>\n",
       "      <td>Ryan</td>\n",
       "      <td>P</td>\n",
       "      <td>1125000</td>\n",
       "      <td>0.116667</td>\n",
       "      <td>1.037037e-07</td>\n",
       "    </tr>\n",
       "  </tbody>\n",
       "</table>\n",
       "</div>"
      ],
      "text/plain": [
       "     playerID  yearID   G    AB    H   BB  HBP   SF nameFirst nameLast POS  \\\n",
       "8   carltst01    1985  16  28.0  5.0  1.0  0.0  1.0     Steve  Carlton   P   \n",
       "9   carltst01    1986  16  34.0  7.0  1.0  0.0  0.0     Steve  Carlton   P   \n",
       "10  carltst01    1986  16  34.0  7.0  1.0  0.0  0.0     Steve  Carlton   P   \n",
       "16   ryanno01    1985  35  63.0  7.0  4.0  0.0  1.0     Nolan     Ryan   P   \n",
       "17   ryanno01    1986  30  59.0  6.0  1.0  0.0  0.0     Nolan     Ryan   P   \n",
       "\n",
       "     salary       OBP         Ratio  \n",
       "8   1075000  0.200000  1.860465e-07  \n",
       "9     60000  0.228571  3.809524e-06  \n",
       "10  1000000  0.228571  2.285714e-07  \n",
       "16  1350000  0.161765  1.198257e-07  \n",
       "17  1125000  0.116667  1.037037e-07  "
      ]
     },
     "execution_count": 83,
     "metadata": {},
     "output_type": "execute_result"
    }
   ],
   "source": [
    "moneyball.head()"
   ]
  },
  {
   "cell_type": "code",
   "execution_count": null,
   "metadata": {
    "collapsed": true
   },
   "outputs": [],
   "source": []
  }
 ],
 "metadata": {
  "kernelspec": {
   "display_name": "Python 3",
   "language": "python",
   "name": "python3"
  },
  "language_info": {
   "codemirror_mode": {
    "name": "ipython",
    "version": 3
   },
   "file_extension": ".py",
   "mimetype": "text/x-python",
   "name": "python",
   "nbconvert_exporter": "python",
   "pygments_lexer": "ipython3",
   "version": "3.5.1"
  }
 },
 "nbformat": 4,
 "nbformat_minor": 0
}
